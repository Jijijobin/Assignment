{
 "cells": [
  {
   "cell_type": "code",
   "execution_count": null,
   "id": "4109d5ac-a5d9-49af-9297-fa454243fe8a",
   "metadata": {},
   "outputs": [],
   "source": []
  }
 ],
 "metadata": {
  "kernelspec": {
   "display_name": "",
   "name": ""
  },
  "language_info": {
   "name": ""
  }
 },
 "nbformat": 4,
 "nbformat_minor": 5
}
